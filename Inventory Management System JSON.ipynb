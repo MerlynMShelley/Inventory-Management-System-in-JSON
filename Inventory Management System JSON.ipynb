{
 "cells": [
  {
   "cell_type": "code",
   "execution_count": null,
   "id": "5f98ed5e",
   "metadata": {},
   "outputs": [],
   "source": [
    "record = {1001 : {'Name': \"5-Star\",  'Price': 10, 'Qn': 200}, \n",
    "          1002 : {'Name': \"Cadbury\", 'Price': 20, 'Qn':300}, \n",
    "          1003 : {'Name': \"Perk\",    'Price': 30, 'Qn':250}, \n",
    "          1004 : {'Name': \"Treat\",   'Price': 15, 'Qn':350},\n",
    "          1005 : {'Name': \"Munch\",   'Price': 25, 'Qn':150},}"
   ]
  },
  {
   "cell_type": "code",
   "execution_count": null,
   "id": "41a1feca",
   "metadata": {},
   "outputs": [],
   "source": [
    "record"
   ]
  },
  {
   "cell_type": "code",
   "execution_count": 33,
   "id": "fa351252",
   "metadata": {},
   "outputs": [
    {
     "name": "stdout",
     "output_type": "stream",
     "text": [
      "------------Menu------------\n",
      "\n",
      "1001 : 5-Star | 10 | 200\n",
      "1002 : Cadbury | 20 | 300\n",
      "1003 : Perk | 30 | 250\n",
      "1004 : Treat | 15 | 350\n",
      "1005 : Munch | 25 | 150\n",
      "\n",
      "----------------------------\n",
      "\n",
      "Enter the product ID: 1001\n",
      "Enter the quantity  : 200\n",
      "\n",
      "--------------Bill--------------\n",
      "\n",
      "Name of the product purchased: 5-Star\n",
      "Price of one quantity: 10\n",
      "The quantity purchased: 200\n",
      "\n",
      "----------------------------\n",
      "\n",
      "The amount to be paid: 2000\n",
      "\n",
      "----------------------------\n",
      "\n"
     ]
    }
   ],
   "source": [
    "import json\n",
    "record = {1001 : {'Name': \"5-Star\",  'Price': 10, 'Qn': 200}, \n",
    "          1002 : {'Name': \"Cadbury\", 'Price': 20, 'Qn':300}, \n",
    "          1003 : {'Name': \"Perk\",    'Price': 30, 'Qn':250}, \n",
    "          1004 : {'Name': \"Treat\",   'Price': 15, 'Qn':350},\n",
    "          1005 : {'Name': \"Munch\",   'Price': 25, 'Qn':150},}\n",
    "\n",
    "\n",
    "print('------------Menu------------\\n')\n",
    "for key in record.keys():\n",
    "    print(key, \":\", record[key]['Name'], \"|\",record[key]['Price'], \"|\",record[key]['Qn'])\n",
    "print('\\n----------------------------\\n')\n",
    "\n",
    "ui_pr = int(input(\"Enter the product ID: \"))\n",
    "ui_qn = int(input(\"Enter the quantity  : \"))\n",
    "\n",
    "record[ui_pr]['Qn'] = record[ui_pr]['Qn'] - ui_qn\n",
    "\n",
    "print('\\n--------------Bill--------------\\n')\n",
    "\n",
    "print('Name of the product purchased:', record[ui_pr]['Name'])\n",
    "print('Price of one quantity:', record[ui_pr]['Price'])\n",
    "print('The quantity purchased:',ui_qn)\n",
    "\n",
    "print('\\n----------------------------\\n')\n",
    "print('The amount to be paid:', record[ui_pr]['Price'] * ui_qn)\n",
    "\n",
    "print('\\n----------------------------\\n')\n"
   ]
  },
  {
   "cell_type": "markdown",
   "id": "6edd35a8",
   "metadata": {},
   "source": [
    "### Converting Dict to Str - dumps()"
   ]
  },
  {
   "cell_type": "code",
   "execution_count": null,
   "id": "b3fb270a",
   "metadata": {},
   "outputs": [],
   "source": [
    "js = json.dumps(record)"
   ]
  },
  {
   "cell_type": "code",
   "execution_count": null,
   "id": "75c5c8cf",
   "metadata": {},
   "outputs": [],
   "source": [
    "fd = open(\"Record.json\", 'w')\n",
    "fd.write(js)\n",
    "fd.close()"
   ]
  },
  {
   "cell_type": "code",
   "execution_count": null,
   "id": "ff8f2bed",
   "metadata": {},
   "outputs": [],
   "source": [
    "js"
   ]
  },
  {
   "cell_type": "code",
   "execution_count": null,
   "id": "4bde92b6",
   "metadata": {},
   "outputs": [],
   "source": [
    "!ls\n"
   ]
  },
  {
   "cell_type": "code",
   "execution_count": 51,
   "id": "0df698d4",
   "metadata": {},
   "outputs": [
    {
     "name": "stdout",
     "output_type": "stream",
     "text": [
      "------------Menu------------\n",
      "\n",
      "1001 : 5-Star | 10 | 0\n",
      "1002 : Cadbury | 20 | 260\n",
      "1003 : Perk | 30 | 250\n",
      "1004 : Treat | 15 | 350\n",
      "1005 : Munch | 25 | 150\n",
      "\n",
      "----------------------------\n",
      "\n",
      "Enter the product ID: 1003\n",
      "Enter the quantity  : 30\n",
      "\n",
      "--------------Bill--------------\n",
      "\n",
      "Name of the product purchased: Perk\n",
      "Price of one quantity: 30\n",
      "The quantity purchased: 30\n",
      "\n",
      "----------------------------\n",
      "\n",
      "The amount to be paid: 900\n",
      "\n",
      "----------------------------\n",
      "\n"
     ]
    }
   ],
   "source": [
    "import json\n",
    "\n",
    "fd = open(\"Records.json\", 'r')\n",
    "js = fd.read()\n",
    "fd.close\n",
    "\n",
    "\n",
    "print('------------Menu------------\\n')\n",
    "for key in record.keys():\n",
    "    print(key, \":\", record[key]['Name'], \"|\",record[key]['Price'], \"|\",record[key]['Qn'])\n",
    "print('\\n----------------------------\\n')\n",
    "\n",
    "ui_pr = input(\"Enter the product ID: \")\n",
    "ui_qn = int(input(\"Enter the quantity  : \"))\n",
    "\n",
    "record[ui_pr]['Qn'] = record[ui_pr]['Qn'] - ui_qn\n",
    "\n",
    "print('\\n--------------Bill--------------\\n')\n",
    "\n",
    "print('Name of the product purchased:', record[ui_pr]['Name'])\n",
    "print('Price of one quantity:', record[ui_pr]['Price'])\n",
    "print('The quantity purchased:',ui_qn)\n",
    "\n",
    "print('\\n----------------------------\\n')\n",
    "print('The amount to be paid:', record[ui_pr]['Price'] * ui_qn)\n",
    "\n",
    "print('\\n----------------------------\\n')\n",
    "\n",
    "js = json.dumps(record)\n",
    "fd = open(\"Records.json\", 'w')\n",
    "fd.write(js)\n",
    "fd.close()"
   ]
  },
  {
   "cell_type": "code",
   "execution_count": 37,
   "id": "88bbd0be",
   "metadata": {},
   "outputs": [
    {
     "data": {
      "text/plain": [
       "'{\"1001\": {\"Name\": \"5-Star\", \"Price\": 10, \"Qn\": 0}, \"1002\": {\"Name\": \"Cadbury\", \"Price\": 20, \"Qn\": 280}, \"1003\": {\"Name\": \"Perk\", \"Price\": 30, \"Qn\": 250}, \"1004\": {\"Name\": \"Treat\", \"Price\": 15, \"Qn\": 350}, \"1005\": {\"Name\": \"Munch\", \"Price\": 25, \"Qn\": 150}}'"
      ]
     },
     "execution_count": 37,
     "metadata": {},
     "output_type": "execute_result"
    }
   ],
   "source": [
    "js\n"
   ]
  },
  {
   "cell_type": "markdown",
   "id": "405787e8",
   "metadata": {},
   "source": [
    "### Converting Str to Dict - load() "
   ]
  },
  {
   "cell_type": "code",
   "execution_count": 42,
   "id": "af13766e",
   "metadata": {},
   "outputs": [],
   "source": [
    "fd = open('Record.json', 'r')\n",
    "js = fd. read()\n",
    "fd.close()"
   ]
  },
  {
   "cell_type": "raw",
   "id": "70737882",
   "metadata": {},
   "source": [
    "record = json.loads(js)"
   ]
  },
  {
   "cell_type": "code",
   "execution_count": 43,
   "id": "2d3cc92c",
   "metadata": {},
   "outputs": [
    {
     "data": {
      "text/plain": [
       "{'1001': {'Name': '5-Star', 'Price': 10, 'Qn': 200},\n",
       " '1002': {'Name': 'Cadbury', 'Price': 20, 'Qn': 300},\n",
       " '1003': {'Name': 'Perk', 'Price': 30, 'Qn': 250},\n",
       " '1004': {'Name': 'Treat', 'Price': 15, 'Qn': 350},\n",
       " '1005': {'Name': 'Munch', 'Price': 25, 'Qn': 150}}"
      ]
     },
     "execution_count": 43,
     "metadata": {},
     "output_type": "execute_result"
    }
   ],
   "source": [
    "record"
   ]
  },
  {
   "cell_type": "code",
   "execution_count": 49,
   "id": "f1fcd299",
   "metadata": {},
   "outputs": [
    {
     "name": "stdout",
     "output_type": "stream",
     "text": [
      "------------Menu------------\n",
      "\n",
      "1001 : 5-Star | 10 | 0\n",
      "1002 : Cadbury | 20 | 280\n",
      "1003 : Perk | 30 | 250\n",
      "1004 : Treat | 15 | 350\n",
      "1005 : Munch | 25 | 150\n",
      "\n",
      "----------------------------\n",
      "\n",
      "Enter the product ID: 1002\n",
      "Enter the quantity  : 20\n",
      "\n",
      "--------------Bill--------------\n",
      "\n",
      "Name of the product purchased: Cadbury\n",
      "Price of one quantity: 20\n",
      "The quantity purchased: 20\n",
      "\n",
      "----------------------------\n",
      "\n",
      "The amount to be paid: 400\n",
      "\n",
      "----------------------------\n",
      "\n"
     ]
    }
   ],
   "source": [
    "import json\n",
    "\n",
    "fd = open(\"Records.json\", 'r')\n",
    "js = fd.read()\n",
    "fd.close()\n",
    "\n",
    "record = json.loads(js)\n",
    "\n",
    "print('------------Menu------------\\n')\n",
    "for key in record.keys():\n",
    "    print(key, \":\", record[key]['Name'], \"|\",record[key]['Price'], \"|\",record[key]['Qn'])\n",
    "print('\\n----------------------------\\n')\n",
    "\n",
    "ui_pr = input(\"Enter the product ID: \")\n",
    "ui_qn = int(input(\"Enter the quantity  : \"))\n",
    "\n",
    "record[ui_pr]['Qn'] = int(record[ui_pr]['Qn'] - ui_qn)\n",
    "\n",
    "print('\\n--------------Bill--------------\\n')\n",
    "\n",
    "print('Name of the product purchased:', record[ui_pr]['Name'])\n",
    "print('Price of one quantity:', record[ui_pr]['Price'])\n",
    "print('The quantity purchased:',ui_qn)\n",
    "\n",
    "print('\\n----------------------------\\n')\n",
    "print('The amount to be paid:', record[ui_pr]['Price'] * ui_qn)\n",
    "\n",
    "print('\\n----------------------------\\n')\n",
    "\n",
    "js = json.dumps(record)\n",
    "fd = open(\"Records.json\", 'w')\n",
    "fd.write(js)\n",
    "fd.close()"
   ]
  },
  {
   "cell_type": "code",
   "execution_count": 50,
   "id": "435b7567",
   "metadata": {},
   "outputs": [
    {
     "data": {
      "text/plain": [
       "{'1001': {'Name': '5-Star', 'Price': 10, 'Qn': 0},\n",
       " '1002': {'Name': 'Cadbury', 'Price': 20, 'Qn': 260},\n",
       " '1003': {'Name': 'Perk', 'Price': 30, 'Qn': 250},\n",
       " '1004': {'Name': 'Treat', 'Price': 15, 'Qn': 350},\n",
       " '1005': {'Name': 'Munch', 'Price': 25, 'Qn': 150}}"
      ]
     },
     "execution_count": 50,
     "metadata": {},
     "output_type": "execute_result"
    }
   ],
   "source": [
    "record\n"
   ]
  },
  {
   "cell_type": "markdown",
   "id": "ceef42b4",
   "metadata": {},
   "source": [
    "### Adding more functionalities"
   ]
  },
  {
   "cell_type": "code",
   "execution_count": 62,
   "id": "fe35c045",
   "metadata": {},
   "outputs": [
    {
     "name": "stdout",
     "output_type": "stream",
     "text": [
      "------------Menu------------\n",
      "\n",
      "1001 : 5-Star | 10 | 0\n",
      "1002 : Cadbury | 20 | 260\n",
      "1003 : Perk | 30 | 220\n",
      "1004 : Treat | 15 | 283\n",
      "1005 : Munch | 25 | 150\n",
      "\n",
      "----------------------------\n",
      "\n",
      "Enter the product ID: 1005\n",
      "Enter the quantity  : 150\n",
      "\n",
      "--------------Bill--------------\n",
      "\n",
      "Name of the product purchased: Munch\n",
      "Price of one quantity: 25\n",
      "The quantity purchased: 150\n",
      "\n",
      "----------------------------\n",
      "\n",
      "The amount to be paid: 3750\n",
      "\n",
      "----------------------------\n",
      "\n"
     ]
    }
   ],
   "source": [
    "import json\n",
    "\n",
    "fd = open(\"Records.json\", 'r')\n",
    "js = fd.read()\n",
    "fd.close()\n",
    "\n",
    "record = json.loads(js)\n",
    "\n",
    "print('------------Menu------------\\n')\n",
    "for key in record.keys():\n",
    "    print(key, \":\", record[key]['Name'], \"|\",record[key]['Price'], \"|\",record[key]['Qn'])\n",
    "print('\\n----------------------------\\n')\n",
    "\n",
    "ui_pr = str(input(\"Enter the product ID: \"))\n",
    "ui_qn = int(input(\"Enter the quantity  : \"))\n",
    "\n",
    "if(record[ui_pr]['Qn'] >= ui_qn):\n",
    "\n",
    "    record[ui_pr]['Qn'] = int(record[ui_pr]['Qn'] - ui_qn)\n",
    "    print('\\n--------------Bill--------------\\n')\n",
    "    print('Name of the product purchased:', record[ui_pr]['Name'])\n",
    "    print('Price of one quantity:', record[ui_pr]['Price'])\n",
    "    print('The quantity purchased:',ui_qn)\n",
    "    print('\\n----------------------------\\n')\n",
    "    print('The amount to be paid:', record[ui_pr]['Price'] * ui_qn)\n",
    "    print('\\n----------------------------\\n')\n",
    "\n",
    "else:\n",
    "    \n",
    "    print(\"Sorry, we are not having enough quantity!\")\n",
    "    print(\"We only have\", record[ui_pr]['Qn'], \" qunatity in the inventory.\")\n",
    "    print('\\n----------------------------\\n')\n",
    "    \n",
    "    ch = str(input('Press Y/y to purchase:'))\n",
    "    \n",
    "    if(ch == 'Y' or ch == 'y'):\n",
    "    \n",
    "        print('\\n--------------Bill--------------\\n')\n",
    "        print('Name of the product purchased:', record[ui_pr]['Name'])\n",
    "        print('Price of one quantity:', record[ui_pr]['Price'])\n",
    "        print('The quantity purchased:',record[ui_pr]['Qn'])\n",
    "        print('\\n----------------------------\\n')\n",
    "        print('The amount to be paid:', record[ui_pr]['Price'] * record[ui_pr]['Qn'])\n",
    "        print('\\n----------------------------\\n')\n",
    "        \n",
    "        record[ui_pr]['Qn'] = 0\n",
    "    else:\n",
    "\n",
    "        print('Thanks!')\n",
    "\n",
    "js = json.dumps(record)\n",
    "fd = open(\"Records.json\", 'w')\n",
    "fd.write(js)\n",
    "fd.close()"
   ]
  },
  {
   "cell_type": "code",
   "execution_count": 63,
   "id": "0bd6aa37",
   "metadata": {},
   "outputs": [
    {
     "data": {
      "text/plain": [
       "{'1001': {'Name': '5-Star', 'Price': 10, 'Qn': 0},\n",
       " '1002': {'Name': 'Cadbury', 'Price': 20, 'Qn': 260},\n",
       " '1003': {'Name': 'Perk', 'Price': 30, 'Qn': 220},\n",
       " '1004': {'Name': 'Treat', 'Price': 15, 'Qn': 283},\n",
       " '1005': {'Name': 'Munch', 'Price': 25, 'Qn': 0}}"
      ]
     },
     "execution_count": 63,
     "metadata": {},
     "output_type": "execute_result"
    }
   ],
   "source": [
    "record\n"
   ]
  },
  {
   "cell_type": "markdown",
   "id": "bc47fcac",
   "metadata": {},
   "source": [
    "### Generating Sales Structure"
   ]
  },
  {
   "cell_type": "code",
   "execution_count": 74,
   "id": "eda11987",
   "metadata": {},
   "outputs": [
    {
     "name": "stdout",
     "output_type": "stream",
     "text": [
      "------------Menu------------\n",
      "\n",
      "1001 : 5-Star | 10 | 0\n",
      "1002 : Cadbury | 20 | 260\n",
      "1003 : Perk | 30 | 220\n",
      "1004 : Treat | 15 | 278\n",
      "1005 : Munch | 25 | 0\n",
      "\n",
      "----------------------------\n",
      "\n",
      "Enter your Name:Pearl\n",
      "Enter your Mail Id:pearl@mail.com\n",
      "Enter your phone number:1234512345\n",
      "Enter the product ID: 1002\n",
      "Enter the quantity  : 10\n",
      "\n",
      "--------------Bill--------------\n",
      "\n",
      "Name of the product purchased: Cadbury\n",
      "Price of one quantity: 20\n",
      "The quantity purchased: 10\n",
      "\n",
      "----------------------------\n",
      "\n",
      "The amount to be paid: 200\n",
      "\n",
      "----------------------------\n",
      "\n"
     ]
    }
   ],
   "source": [
    "import json\n",
    "import time\n",
    "\n",
    "fd = open(\"Records.json\", 'r')\n",
    "js = fd.read()\n",
    "fd.close()\n",
    "\n",
    "record = json.loads(js)\n",
    "\n",
    "print('------------Menu------------\\n')\n",
    "for key in record.keys():\n",
    "    print(key, \":\", record[key]['Name'], \"|\",record[key]['Price'], \"|\",record[key]['Qn'])\n",
    "print('\\n----------------------------\\n')\n",
    "\n",
    "ui_name = str(input(\"Enter your Name:\"))\n",
    "ui_mail = str(input(\"Enter your Mail Id:\"))\n",
    "ui_phno = str(input(\"Enter your phone number:\"))\n",
    "ui_pr = str(input(\"Enter the product ID: \"))\n",
    "ui_qn = int(input(\"Enter the quantity  : \"))\n",
    "\n",
    "if(record[ui_pr]['Qn'] >= ui_qn):\n",
    "\n",
    "    record[ui_pr]['Qn'] = int(record[ui_pr]['Qn'] - ui_qn)\n",
    "    print('\\n--------------Bill--------------\\n')\n",
    "    print('Name of the product purchased:', record[ui_pr]['Name'])\n",
    "    print('Price of one quantity:', record[ui_pr]['Price'])\n",
    "    print('The quantity purchased:',ui_qn)\n",
    "    print('\\n----------------------------\\n')\n",
    "    print('The amount to be paid:', record[ui_pr]['Price'] * ui_qn)\n",
    "    print('\\n----------------------------\\n')\n",
    "    \n",
    "    sales = \"1\" + \",\" + ui_name + \",\" + ui_mail + \",\" + ui_phno + \",\" + ui_pr + \",\" + record[ui_pr][\"Name\"] + \",\" + str(record[ui_pr][\"Price\"]) + \",\" + str(ui_qn * record[ui_pr][\"Price\"]) + \",\" + time.ctime()\n",
    "\n",
    "else:\n",
    "    \n",
    "    print(\"Sorry, we are not having enough quantity!\")\n",
    "    print(\"We only have\", record[ui_pr]['Qn'], \" qunatity in the inventory.\")\n",
    "    print('\\n----------------------------\\n')\n",
    "    \n",
    "    ch = str(input('Press Y/y to purchase:'))\n",
    "    \n",
    "    if(ch == 'Y' or ch == 'y'):\n",
    "    \n",
    "        print('\\n--------------Bill--------------\\n')\n",
    "        print('Name of the product purchased:', record[ui_pr]['Name'])\n",
    "        print('Price of one quantity:', record[ui_pr]['Price'])\n",
    "        print('The quantity purchased:',record[ui_pr]['Qn'])\n",
    "        print('\\n----------------------------\\n')\n",
    "        print('The amount to be paid:', record[ui_pr]['Price'] * record[ui_pr]['Qn'])\n",
    "        print('\\n----------------------------\\n')\n",
    "        \n",
    "        sales = \"1\" + \",\" + ui_name + \",\" + ui_mail + \",\" + ui_phno + \",\" + ui_pr + \",\" + record[ui_pr][\"Name\"] + \",\" + str(record[ui_pr][\"Price\"]) + \",\" + str(record[ui_pr]['Qn']*record[ui_pr][\"Price\"]) + \",\" + time.ctime()\n",
    "        record[ui_pr]['Qn'] = 0\n",
    "    else:\n",
    "\n",
    "        print('Thanks!')\n",
    "\n",
    "js = json.dumps(record)\n",
    "fd = open(\"Records.json\", 'w')\n",
    "fd.write(js)\n",
    "fd.close()"
   ]
  },
  {
   "cell_type": "code",
   "execution_count": 70,
   "id": "2b7c8f05",
   "metadata": {},
   "outputs": [],
   "source": [
    "import time\n",
    "sales = \"1\" + \",\" + ui_name + \",\" + ui_mail + \",\" + ui_phno + \",\" + ui_pr + \",\" + record[ui_pr][\"Name\"] + \",\" + str(record[ui_pr][\"Price\"]) + \",\" + str(record[ui_pr]['Qn']*record[ui_pr][\"Price\"]) + \",\" + time.ctime()"
   ]
  },
  {
   "cell_type": "code",
   "execution_count": 71,
   "id": "375964d1",
   "metadata": {},
   "outputs": [
    {
     "data": {
      "text/plain": [
       "'1,Merlyn,merlyn@mail.com,6778898900,1004,Treat,15,4170,Tue Jun 11 11:22:22 2024'"
      ]
     },
     "execution_count": 71,
     "metadata": {},
     "output_type": "execute_result"
    }
   ],
   "source": [
    "sales"
   ]
  },
  {
   "cell_type": "code",
   "execution_count": 75,
   "id": "a831e5a5",
   "metadata": {},
   "outputs": [
    {
     "data": {
      "text/plain": [
       "'1,Pearl,pearl@mail.com,1234512345,1002,Cadbury,20,200,Tue Jun 11 11:33:54 2024'"
      ]
     },
     "execution_count": 75,
     "metadata": {},
     "output_type": "execute_result"
    }
   ],
   "source": [
    "sales\n"
   ]
  },
  {
   "cell_type": "markdown",
   "id": "d7007a17",
   "metadata": {},
   "source": [
    "### Generating Sales File and Saving them "
   ]
  },
  {
   "cell_type": "code",
   "execution_count": 97,
   "id": "2325ddb3",
   "metadata": {},
   "outputs": [
    {
     "name": "stdout",
     "output_type": "stream",
     "text": [
      "------------Menu------------\n",
      "\n",
      "1001 : 5-Star | 10 | 195\n",
      "1002 : Cadbury | 20 | 287\n",
      "1003 : Perk | 30 | 243\n",
      "1004 : Treat | 15 | 338\n",
      "1005 : Munch | 25 | 140\n",
      "\n",
      "----------------------------\n",
      "\n",
      "Enter your Name:Carol\n",
      "Enter your Mail Id:carol@mail.com\n",
      "Enter your phone number:123456789\n",
      "Enter the product ID: 1004\n",
      "Enter the quantity  : 2\n",
      "\n",
      "--------------Bill--------------\n",
      "\n",
      "Name of the product purchased: Treat\n",
      "Price of one quantity: 15\n",
      "The quantity purchased: 2\n",
      "\n",
      "----------------------------\n",
      "\n",
      "The amount to be paid: 30\n",
      "\n",
      "----------------------------\n",
      "\n",
      "--------------------------------\n",
      "\n",
      "Thank you for purchasing! Inventory Updated.\n",
      "--------------------------------\n",
      "\n"
     ]
    }
   ],
   "source": [
    "import json\n",
    "import time\n",
    "\n",
    "fd = open(\"Records.json\", 'r')\n",
    "js = fd.read()\n",
    "fd.close()\n",
    "\n",
    "record = json.loads(js)\n",
    "\n",
    "sales = \" \"\n",
    "\n",
    "print('------------Menu------------\\n')\n",
    "for key in record.keys():\n",
    "    print(key, \":\", record[key]['Name'], \"|\",record[key]['Price'], \"|\",record[key]['Qn'])\n",
    "print('\\n----------------------------\\n')\n",
    "\n",
    "ui_name = str(input(\"Enter your Name:\"))\n",
    "ui_mail = str(input(\"Enter your Mail Id:\"))\n",
    "ui_phno = str(input(\"Enter your phone number:\"))\n",
    "ui_pr = str(input(\"Enter the product ID: \"))\n",
    "ui_qn = int(input(\"Enter the quantity  : \"))\n",
    "\n",
    "if(record[ui_pr]['Qn'] >= ui_qn):\n",
    "\n",
    "    record[ui_pr]['Qn'] = int(record[ui_pr]['Qn'] - ui_qn)\n",
    "    print('\\n--------------Bill--------------\\n')\n",
    "    print('Name of the product purchased:', record[ui_pr]['Name'])\n",
    "    print('Price of one quantity:', record[ui_pr]['Price'])\n",
    "    print('The quantity purchased:',ui_qn)\n",
    "    print('\\n----------------------------\\n')\n",
    "    print('The amount to be paid:', record[ui_pr]['Price'] * ui_qn)\n",
    "    print('\\n----------------------------\\n')\n",
    "    \n",
    "    sales = ui_name + \",\" + ui_mail + \",\" + ui_phno + \",\" + ui_pr + \",\" + record[ui_pr][\"Name\"] + \",\" + str(record[ui_pr][\"Price\"]) + \",\" + str(ui_qn * record[ui_pr][\"Price\"]) + \",\" + time.ctime()+ \"\\n\"\n",
    "\n",
    "else:\n",
    "    \n",
    "    print(\"Sorry, we are not having enough quantity!\")\n",
    "    print(\"We only have\", record[ui_pr]['Qn'], \" qunatity in the inventory.\")\n",
    "    print('\\n----------------------------\\n')\n",
    "    \n",
    "    ch = str(input('Press Y/y to purchase:'))\n",
    "    \n",
    "    if(ch == 'Y' or ch == 'y'):\n",
    "    \n",
    "        print('\\n--------------Bill--------------\\n')\n",
    "        print('Name of the product purchased:', record[ui_pr]['Name'])\n",
    "        print('Price of one quantity:', record[ui_pr]['Price'])\n",
    "        print('The quantity purchased:',record[ui_pr]['Qn'])\n",
    "        print('\\n----------------------------\\n')\n",
    "        print('The amount to be paid:', record[ui_pr]['Price'] * record[ui_pr]['Qn'])\n",
    "        print('\\n----------------------------\\n')\n",
    "        \n",
    "        sales = ui_name + \",\" + ui_mail + \",\" + ui_phno + \",\" + ui_pr + \",\" + record[ui_pr][\"Name\"] + \",\" + str(record[ui_pr][\"Price\"]) + \",\" + str(record[ui_pr]['Qn']*record[ui_pr][\"Price\"]) + \",\" + time.ctime()+ \"\\n\"\n",
    "        record[ui_pr]['Qn'] = 0\n",
    "    else:\n",
    "\n",
    "        print('Thanks!')\n",
    "\n",
    "js = json.dumps(record)\n",
    "fd = open(\"Records.json\", 'w')\n",
    "fd.write(js)\n",
    "fd.close()\n",
    "\n",
    "fd = open('Sales.txt', 'a')\n",
    "fd.write(sales)\n",
    "fd.close()\n",
    "\n",
    "print(\"--------------------------------\\n\")\n",
    "print(\"Thank you for purchasing! Inventory Updated.\")\n",
    "print(\"--------------------------------\\n\")"
   ]
  },
  {
   "cell_type": "code",
   "execution_count": 92,
   "id": "86b13256",
   "metadata": {},
   "outputs": [],
   "source": [
    "fd = open('Sales.txt', 'a')\n",
    "fd.write(sales)\n",
    "fd.close()"
   ]
  },
  {
   "cell_type": "code",
   "execution_count": 88,
   "id": "4c482819",
   "metadata": {},
   "outputs": [
    {
     "data": {
      "text/plain": [
       "'Bobby,bobby@mail.com,123123123,1004,Treat,15,150,Tue Jun 11 11:45:53 2024\\n'"
      ]
     },
     "execution_count": 88,
     "metadata": {},
     "output_type": "execute_result"
    }
   ],
   "source": [
    "sales\n"
   ]
  },
  {
   "cell_type": "markdown",
   "id": "1f83268d",
   "metadata": {},
   "source": [
    "### Final Code with Comments"
   ]
  },
  {
   "cell_type": "code",
   "execution_count": 98,
   "id": "c8ad3d4f",
   "metadata": {},
   "outputs": [
    {
     "name": "stdout",
     "output_type": "stream",
     "text": [
      "------------Menu------------\n",
      "\n",
      "1001 : 5-Star | 10 | 195\n",
      "1002 : Cadbury | 20 | 287\n",
      "1003 : Perk | 30 | 243\n",
      "1004 : Treat | 15 | 336\n",
      "1005 : Munch | 25 | 140\n",
      "\n",
      "----------------------------\n",
      "\n",
      "Enter your Name:Molly\n",
      "Enter your Mail Id:molly@mail.com\n",
      "Enter your phone number:12121212\n",
      "Enter the product ID: 1002\n",
      "Enter the quantity  : 9\n",
      "\n",
      "--------------Bill--------------\n",
      "\n",
      "Name of the product purchased: Cadbury\n",
      "Price of one quantity: 20\n",
      "The quantity purchased: 9\n",
      "\n",
      "----------------------------\n",
      "\n",
      "The amount to be paid: 180\n",
      "\n",
      "----------------------------\n",
      "\n",
      "--------------------------------\n",
      "\n",
      "Thank you for purchasing! Inventory Updated.\n",
      "--------------------------------\n",
      "\n"
     ]
    }
   ],
   "source": [
    "#Importing the Libraries\n",
    "import json\n",
    "import time\n",
    "\n",
    "#Loading the Records from Inventory - JSON to String\n",
    "fd = open(\"Records.json\", 'r')\n",
    "js = fd.read()\n",
    "fd.close()\n",
    "\n",
    "#Converting String Records to JSON?Dictionaries\n",
    "record = json.loads(js)\n",
    "\n",
    "#Initialising Variable for Generating Sales Data\n",
    "sales = \" \"\n",
    "\n",
    "#Displaying the Menu\n",
    "print('------------Menu------------\\n')\n",
    "for key in record.keys():\n",
    "    print(key, \":\", record[key]['Name'], \"|\",record[key]['Price'], \"|\",record[key]['Qn'])\n",
    "print('\\n----------------------------\\n')\n",
    "\n",
    "\n",
    "#Taking inputs from the user on product requirements and user details\n",
    "ui_name = str(input(\"Enter your Name:\"))\n",
    "ui_mail = str(input(\"Enter your Mail Id:\"))\n",
    "ui_phno = str(input(\"Enter your phone number:\"))\n",
    "ui_pr = str(input(\"Enter the product ID: \"))\n",
    "ui_qn = int(input(\"Enter the quantity  : \"))\n",
    "\n",
    "#If we are having more or equal quantity than user wants\n",
    "if(record[ui_pr]['Qn'] >= ui_qn):\n",
    "\n",
    "    #Purchase details\n",
    "    print('\\n--------------Bill--------------\\n')\n",
    "    print('Name of the product purchased:', record[ui_pr]['Name'])\n",
    "    print('Price of one quantity:', record[ui_pr]['Price'])\n",
    "    print('The quantity purchased:',ui_qn)\n",
    "    print('\\n----------------------------\\n')\n",
    "    print('The amount to be paid:', record[ui_pr]['Price'] * ui_qn)\n",
    "    print('\\n----------------------------\\n')\n",
    "    \n",
    "    #Updating the inventory in Dictionary\n",
    "    record[ui_pr]['Qn'] = int(record[ui_pr]['Qn'] - ui_qn)\n",
    "    \n",
    "    #Generating Sales Details and Saving in CSV\n",
    "    sales = ui_name + \",\" + ui_mail + \",\" + ui_phno + \",\" + ui_pr + \",\" + record[ui_pr][\"Name\"] + \",\" + str(record[ui_pr][\"Price\"]) + \",\" + str(ui_qn * record[ui_pr][\"Price\"]) + \",\" + time.ctime()+ \"\\n\"\n",
    "\n",
    "# Not having enough quantity\n",
    "else:\n",
    "    \n",
    "    #Displaying about the available quantity\n",
    "    print(\"Sorry, we are not having enough quantity!\")\n",
    "    print(\"We only have\", record[ui_pr]['Qn'], \" qunatity in the inventory.\")\n",
    "    print('\\n----------------------------\\n')\n",
    "    \n",
    "    #If user wants to purchase the available quantity from the inventory\n",
    "    ch = str(input('Press Y/y to purchase:'))\n",
    "    \n",
    "    if(ch == 'Y' or ch == 'y'):\n",
    "        \n",
    "        #Displaying Purchase Details\n",
    "        print('\\n--------------Bill--------------\\n')\n",
    "        print('Name of the product purchased:', record[ui_pr]['Name'])\n",
    "        print('Price of one quantity:', record[ui_pr]['Price'])\n",
    "        print('The quantity purchased:',record[ui_pr]['Qn'])\n",
    "        print('\\n----------------------------\\n')\n",
    "        print('The amount to be paid:', record[ui_pr]['Price'] * record[ui_pr]['Qn'])\n",
    "        print('\\n----------------------------\\n')\n",
    "        \n",
    "        #Generating Sales Details and Saving in CSV\n",
    "        sales = ui_name + \",\" + ui_mail + \",\" + ui_phno + \",\" + ui_pr + \",\" + record[ui_pr][\"Name\"] + \",\" + str(record[ui_pr][\"Price\"]) + \",\" + str(record[ui_pr]['Qn']*record[ui_pr][\"Price\"]) + \",\" + time.ctime()+ \"\\n\"\n",
    "        \n",
    "        #Updating the inventory in Dictionary\n",
    "        record[ui_pr]['Qn'] = 0\n",
    "    else:\n",
    "        print('Thanks!')\n",
    "#Converting Dict to Str\n",
    "js = json.dumps(record)\n",
    "\n",
    "#Saving in JSON\n",
    "fd = open(\"Records.json\", 'w')\n",
    "fd.write(js)\n",
    "fd.close()\n",
    "\n",
    "#Saving sales details\n",
    "fd = open('Sales.txt', 'a')\n",
    "fd.write(sales)\n",
    "fd.close()\n",
    "\n",
    "print(\"--------------------------------\\n\")\n",
    "print(\"Thank you for purchasing! Inventory Updated.\")\n",
    "print(\"--------------------------------\\n\")"
   ]
  },
  {
   "cell_type": "code",
   "execution_count": 99,
   "id": "aab8989f",
   "metadata": {},
   "outputs": [
    {
     "data": {
      "text/plain": [
       "'Molly,molly@mail.com,12121212,1002,Cadbury,20,180,Tue Jun 11 12:42:17 2024\\n'"
      ]
     },
     "execution_count": 99,
     "metadata": {},
     "output_type": "execute_result"
    }
   ],
   "source": [
    "sales\n"
   ]
  },
  {
   "cell_type": "code",
   "execution_count": null,
   "id": "38777fa1",
   "metadata": {},
   "outputs": [],
   "source": []
  }
 ],
 "metadata": {
  "kernelspec": {
   "display_name": "Python 3 (ipykernel)",
   "language": "python",
   "name": "python3"
  },
  "language_info": {
   "codemirror_mode": {
    "name": "ipython",
    "version": 3
   },
   "file_extension": ".py",
   "mimetype": "text/x-python",
   "name": "python",
   "nbconvert_exporter": "python",
   "pygments_lexer": "ipython3",
   "version": "3.11.7"
  }
 },
 "nbformat": 4,
 "nbformat_minor": 5
}
